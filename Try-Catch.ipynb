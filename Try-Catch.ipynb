{
 "cells": [
  {
   "cell_type": "markdown",
   "id": "07e211ec",
   "metadata": {},
   "source": [
    "# Try Catch and Error Handling"
   ]
  },
  {
   "cell_type": "markdown",
   "id": "ede5aab0",
   "metadata": {},
   "source": [
    "## Syntax Error"
   ]
  },
  {
   "cell_type": "code",
   "execution_count": null,
   "id": "5af84e09",
   "metadata": {},
   "outputs": [],
   "source": []
  },
  {
   "cell_type": "markdown",
   "id": "71cce3d8",
   "metadata": {},
   "source": [
    "## Handling Runtime Error"
   ]
  },
  {
   "cell_type": "code",
   "execution_count": null,
   "id": "bd64222d",
   "metadata": {},
   "outputs": [],
   "source": [
    "try:\n",
    "    a = int(input('Number 1: '))\n",
    "    b = int(input('Number 2: '))\n",
    "    print(divide(a, b))\n",
    "except ZeroDivisionError as error:\n",
    "    print(\"There was a ZeroDivision error:\")\n",
    "    print(error)\n",
    "except ValueError as error:\n",
    "    print(\"There was a ZeroDivision error:\")\n",
    "    print(error)\n",
    "except Exception as error:\n",
    "    print(\"There was a Exception error:\")\n",
    "    print(error)"
   ]
  },
  {
   "cell_type": "markdown",
   "id": "1533f988",
   "metadata": {},
   "source": [
    "## Else Block"
   ]
  },
  {
   "cell_type": "code",
   "execution_count": 2,
   "id": "aa068531",
   "metadata": {},
   "outputs": [
    {
     "name": "stdout",
     "output_type": "stream",
     "text": [
      "There was a ZeroDivision error:\n",
      "division by zero\n"
     ]
    }
   ],
   "source": [
    "def divide(a, b):\n",
    "    c = a / b\n",
    "    return c\n",
    "try:\n",
    "    a = int(input('Number 1: '))\n",
    "    b = int(input('Number 2: '))\n",
    "    print(divide(a, b))\n",
    "except ZeroDivisionError as error:\n",
    "    print(\"There was a ZeroDivision error:\")\n",
    "    print(error)\n",
    "else:\n",
    "    print(\"There were no errors.\")"
   ]
  },
  {
   "cell_type": "markdown",
   "id": "809145d2",
   "metadata": {},
   "source": [
    "## Finally"
   ]
  },
  {
   "cell_type": "code",
   "execution_count": null,
   "id": "be49e7b1",
   "metadata": {},
   "outputs": [],
   "source": [
    "try:\n",
    "    a = int(input('Number 1: '))\n",
    "    b = int(input('Number 2: '))\n",
    "    print(divide(a, b))\n",
    "except ZeroDivisionError as error:\n",
    "    print(\"There was a ZeroDivision error:\")\n",
    "    print(error)\n",
    "finally:\n",
    "    print(\"YOU'VE REACHED THE END.\")"
   ]
  },
  {
   "cell_type": "markdown",
   "id": "f54ecbed",
   "metadata": {},
   "source": [
    "## Custom Exceptions"
   ]
  },
  {
   "cell_type": "code",
   "execution_count": 38,
   "id": "8b14c8f1",
   "metadata": {},
   "outputs": [],
   "source": [
    "# Create a function that generates a corret answer (1-10),\n",
    "# Have the user\n",
    "from random import randint\n",
    "\n",
    "def guessing_game():\n",
    "    correct_answer = randint(1, 10)\n",
    "    try:\n",
    "        user_guess = int(input(\"Guess a number... \"))\n",
    "        if user_guess < 1 or user_guess > 10:\n",
    "            raise ValueError(\"User guess out of range\")\n",
    "    except ValueError as error:\n",
    "        print(\"There was a ZeroDivision error:\")\n",
    "        print(error)\n",
    "\n",
    "guessing_game()"
   ]
  },
  {
   "cell_type": "markdown",
   "id": "c97ef36a",
   "metadata": {},
   "source": [
    "## Error Handling Our Shopping Cart"
   ]
  },
  {
   "cell_type": "code",
   "execution_count": 21,
   "id": "426bc0b9",
   "metadata": {},
   "outputs": [
    {
     "name": "stdout",
     "output_type": "stream",
     "text": [
      "This is your cart: \n",
      "Dog x2: $4.0\n",
      "Item was successfully deleted.\n",
      "Please enter valid response.\n"
     ]
    }
   ],
   "source": [
    "class Cart():\n",
    "    def __init__(self):\n",
    "        self.items = {}\n",
    "\n",
    "    def show(self):\n",
    "        print(\"This is your cart: \")\n",
    "        for key, val in self.items.items():\n",
    "            total = val.quantity * val.price\n",
    "            print(f'{key.title()} x{val.quantity}: ${total}')\n",
    "\n",
    "    def add(self, item, quantity, price):\n",
    "        if item in self.items:\n",
    "            self.items[item].quantity += quantity\n",
    "        else:\n",
    "            newItem = Item(item, quantity, price)\n",
    "            self.items[item] = newItem\n",
    "\n",
    "    def delete(self, deleteItem):\n",
    "        try:\n",
    "            del self.items[deleteItem]\n",
    "        except:\n",
    "            print(\"There was an error. Please try again.\")\n",
    "        else:\n",
    "            print(\"Item was successfully deleted.\")\n",
    "\n",
    "class Item():\n",
    "    def __init__(self, item, quantity, price):\n",
    "        self.item = item\n",
    "        self.quantity = quantity\n",
    "        self.price = price\n",
    "\n",
    "class Shopping():\n",
    "    def __init__(self):\n",
    "        self.cart = Cart()\n",
    "\n",
    "    def shop(self):\n",
    "        while True:\n",
    "            cart = input(\"Do you want to : Show/Add/Delete or Quit?: \")\n",
    "            if cart.lower() == \"show\":\n",
    "                self.cart.show()\n",
    "            elif cart.lower() == \"add\":\n",
    "                while True:\n",
    "                    item = input(\"What would you like to add?: \")\n",
    "                    ### Quantity and Price done in two different ways to demostrate multiple approaches to error handling.\n",
    "                    quantity = (input(\"What would be the quantity?: \"))\n",
    "                    if (not quantity.isnumeric()):\n",
    "                        print(\"Please enter a valid number.\")\n",
    "                        break\n",
    "                    else:\n",
    "                        quantity = int(quantity)\n",
    "\n",
    "                    try:\n",
    "                        price = float(input(\"What would be the price?: \"))\n",
    "                    except:\n",
    "                        print(\"Please enter a valid number.\")\n",
    "                        break\n",
    "\n",
    "                    else:\n",
    "                        self.cart.add(item, quantity, price)\n",
    "                        break\n",
    "\n",
    "            elif cart.lower() == \"delete\":\n",
    "                while True:\n",
    "                    item = input(\"What would you like to delete?: \")\n",
    "                    try:\n",
    "                        self.cart.delete(item)\n",
    "                    except:\n",
    "                        print(\"There was an error. Please try again.\")\n",
    "                        break\n",
    "                    else:\n",
    "                        break\n",
    "            elif cart.lower() == \"quit\":\n",
    "                break\n",
    "            else:\n",
    "                print(\"Please enter valid response.\")\n",
    "\n",
    "userCart = Shopping()\n",
    "userCart.shop()"
   ]
  }
 ],
 "metadata": {
  "kernelspec": {
   "display_name": "Python 3.10.6 64-bit",
   "language": "python",
   "name": "python3"
  },
  "language_info": {
   "codemirror_mode": {
    "name": "ipython",
    "version": 3
   },
   "file_extension": ".py",
   "mimetype": "text/x-python",
   "name": "python",
   "nbconvert_exporter": "python",
   "pygments_lexer": "ipython3",
   "version": "3.10.6"
  },
  "vscode": {
   "interpreter": {
    "hash": "aee8b7b246df8f9039afb4144a1f6fd8d2ca17a180786b69acc140d282b71a49"
   }
  }
 },
 "nbformat": 4,
 "nbformat_minor": 5
}
